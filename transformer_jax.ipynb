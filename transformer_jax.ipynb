{
  "nbformat": 4,
  "nbformat_minor": 0,
  "metadata": {
    "colab": {
      "provenance": [],
      "authorship_tag": "ABX9TyP64HvZxo/MbMT2cOxEOJvS",
      "include_colab_link": true
    },
    "kernelspec": {
      "name": "python3",
      "display_name": "Python 3"
    },
    "language_info": {
      "name": "python"
    }
  },
  "cells": [
    {
      "cell_type": "markdown",
      "metadata": {
        "id": "view-in-github",
        "colab_type": "text"
      },
      "source": [
        "<a href=\"https://colab.research.google.com/github/nealgravindra/fromscratch/blob/main/transformer_jax.ipynb\" target=\"_parent\"><img src=\"https://colab.research.google.com/assets/colab-badge.svg\" alt=\"Open In Colab\"/></a>"
      ]
    },
    {
      "cell_type": "code",
      "execution_count": null,
      "metadata": {
        "id": "ldMqdE4gFXRm"
      },
      "outputs": [],
      "source": [
        "import flax.linen as nn\n",
        "import jax.numpy as jnp\n",
        "import numpy as np\n",
        "import optax\n",
        "import tensorflow as tf"
      ]
    },
    {
      "cell_type": "code",
      "source": [
        "# prompt: provide the boilerplate code to train a model with Jax and flax\n",
        "\n",
        "# Define the model\n",
        "\n",
        "def my_model(x):\n",
        "  x = nn.Dense(100)(x)\n",
        "  x = nn.Dense(100)(x)\n",
        "  logits = nn.Dense(1)(x)\n",
        "  return logits\n",
        "\n",
        "# Define the optimizer\n",
        "\n",
        "opt = optax.adam(learning_rate=1e-3)\n",
        "\n",
        "# Define the loss function\n",
        "\n",
        "loss_fn = jnp.mean(jnp.square(logits - y))\n",
        "\n",
        "# Train the model\n",
        "\n",
        "for epoch in range(100):\n",
        "  # Get the predictions for the current batch\n",
        "\n",
        "  predictions = model(x)\n",
        "\n",
        "  # Calculate the loss\n",
        "\n",
        "  loss = loss_fn(predictions, y)\n",
        "\n",
        "  # Calculate the gradients\n",
        "\n",
        "  grad = jax.grad(loss, model.params)\n",
        "\n",
        "  # Update the parameters\n",
        "\n",
        "  params = opt.update(grad, params)\n",
        "\n",
        "  # Print the loss\n",
        "\n",
        "  print(loss)\n"
      ],
      "metadata": {
        "id": "65Q1xB68FhWU"
      },
      "execution_count": null,
      "outputs": []
    }
  ]
}